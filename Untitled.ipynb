{
 "cells": [
  {
   "cell_type": "code",
   "execution_count": 1,
   "id": "91a1b2a7-cff5-4b57-af2c-1bbe4e7de098",
   "metadata": {},
   "outputs": [],
   "source": [
    "import pandas as pd\n",
    "from pathlib import Path\n",
    "%matplotlib inline"
   ]
  },
  {
   "cell_type": "code",
   "execution_count": null,
   "id": "704c1ef3-b28a-4e8e-851f-fb336a756b10",
   "metadata": {},
   "outputs": [],
   "source": [
    "bitstamp_df = pd.read_csv(Path(\"../Resources/bitstamp.csv\"), "
   ]
  }
 ],
 "metadata": {
  "kernelspec": {
   "display_name": "dev",
   "language": "python",
   "name": "dev"
  },
  "language_info": {
   "codemirror_mode": {
    "name": "ipython",
    "version": 3
   },
   "file_extension": ".py",
   "mimetype": "text/x-python",
   "name": "python",
   "nbconvert_exporter": "python",
   "pygments_lexer": "ipython3",
   "version": "3.7.11"
  }
 },
 "nbformat": 4,
 "nbformat_minor": 5
}
